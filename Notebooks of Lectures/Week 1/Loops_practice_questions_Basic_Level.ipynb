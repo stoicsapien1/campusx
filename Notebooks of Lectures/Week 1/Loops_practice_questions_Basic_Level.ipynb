{
  "cells": [
    {
      "cell_type": "code",
      "execution_count": null,
      "metadata": {
        "id": "sP-w6gvsOeOI",
        "outputId": "048972bc-a4c9-457e-d52a-e78d7d306aea"
      },
      "outputs": [
        {
          "name": "stdout",
          "output_type": "stream",
          "text": [
            "1\n",
            "2\n",
            "3\n",
            "4\n",
            "5\n",
            "6\n",
            "7\n",
            "8\n",
            "9\n",
            "10\n"
          ]
        }
      ],
      "source": [
        "#print number from 1 to 10\n",
        "i=1\n",
        "while i<=10:\n",
        "    print(i)\n",
        "    i=i+1"
      ]
    },
    {
      "cell_type": "code",
      "execution_count": null,
      "metadata": {
        "id": "Za8SKhEXOeOO",
        "outputId": "1e7085e8-4e89-4369-dc45-6e109a67d987"
      },
      "outputs": [
        {
          "name": "stdout",
          "output_type": "stream",
          "text": [
            "15\n"
          ]
        }
      ],
      "source": [
        "#sum of numbers from 1 to 5\n",
        "sum=0\n",
        "for i in range(1,6):\n",
        "    sum+=i\n",
        "print(sum)"
      ]
    },
    {
      "cell_type": "code",
      "execution_count": null,
      "metadata": {
        "id": "vn2ZITZ5OeOQ",
        "outputId": "adc742f4-0313-4430-d985-68acb26e6e26"
      },
      "outputs": [
        {
          "name": "stdout",
          "output_type": "stream",
          "text": [
            "[2, 4, 6, 8, 10]\n"
          ]
        }
      ],
      "source": [
        "#print even number from 2 to 10\n",
        "l=[]\n",
        "for i in range(1,11):\n",
        "    if i%2==0:\n",
        "        l.append(i)\n",
        "print(l)\n"
      ]
    },
    {
      "cell_type": "code",
      "execution_count": null,
      "metadata": {
        "id": "_D9qtUVVOeOQ",
        "outputId": "9d50f88f-70b6-4aff-87b4-763e48f35b50"
      },
      "outputs": [
        {
          "name": "stdout",
          "output_type": "stream",
          "text": [
            "120\n"
          ]
        }
      ],
      "source": [
        "#factorial of a given number\n",
        "fact =1\n",
        "n = int(input(\"Enter the number for factorial\"))\n",
        "for i in range(1,n+1):\n",
        "    fact*=i\n",
        "print(fact)\n"
      ]
    },
    {
      "cell_type": "code",
      "execution_count": null,
      "metadata": {
        "id": "uxQ7B3H7OeOR",
        "outputId": "593d5cc8-10f2-4d3f-cf35-35f6f99ee3b2"
      },
      "outputs": [
        {
          "name": "stdout",
          "output_type": "stream",
          "text": [
            "120\n"
          ]
        }
      ],
      "source": [
        "#factorial using while loops\n",
        "fact =1\n",
        "n = int(input(\"Enter the number for factorial\"))\n",
        "i=1\n",
        "while i<=n:\n",
        "    fact*=i\n",
        "    i=i+1\n",
        "print(fact)"
      ]
    },
    {
      "cell_type": "code",
      "execution_count": null,
      "metadata": {
        "id": "QHwoi0uROeOS",
        "outputId": "3b6c45f3-a54b-4719-ba27-2f8278ad17c5"
      },
      "outputs": [
        {
          "name": "stdout",
          "output_type": "stream",
          "text": [
            "3\n",
            "6\n",
            "9\n",
            "12\n",
            "15\n",
            "18\n",
            "21\n",
            "24\n",
            "27\n",
            "30\n"
          ]
        }
      ],
      "source": [
        "#table of 3\n",
        "for i in range(1,11):\n",
        "    print(3*i)"
      ]
    },
    {
      "cell_type": "code",
      "execution_count": null,
      "metadata": {
        "id": "Sbvx3T4_OeOT",
        "outputId": "34d1bd2e-292b-4cb7-d9b4-c9df8283fb45"
      },
      "outputs": [
        {
          "name": "stdout",
          "output_type": "stream",
          "text": [
            "3\n",
            "6\n",
            "9\n",
            "12\n",
            "15\n",
            "18\n",
            "21\n",
            "24\n",
            "27\n"
          ]
        }
      ],
      "source": [
        "#table using while loops\n",
        "i =1\n",
        "while i<10:\n",
        "    print(3*i)\n",
        "    i=i+1"
      ]
    },
    {
      "cell_type": "code",
      "execution_count": null,
      "metadata": {
        "id": "4Ggqk5eLOeOT",
        "outputId": "83a17e1b-c7fe-4e6c-95f5-f4bf311ede30"
      },
      "outputs": [
        {
          "name": "stdout",
          "output_type": "stream",
          "text": [
            "Sum of positive number 6\n"
          ]
        }
      ],
      "source": [
        "sum_positive = 0\n",
        "while True:\n",
        "    num = int(input(\"Enter the number\"))\n",
        "    if num<0:\n",
        "        break\n",
        "    sum_positive+=num\n",
        "print(\"Sum of positive number\",sum_positive)"
      ]
    },
    {
      "cell_type": "code",
      "execution_count": null,
      "metadata": {
        "id": "vOC6zCuJOeOU",
        "outputId": "28ff04da-7284-4e98-9735-26629529dd80"
      },
      "outputs": [
        {
          "name": "stdout",
          "output_type": "stream",
          "text": [
            "1\n",
            "2\n",
            "4\n",
            "8\n",
            "16\n"
          ]
        }
      ],
      "source": [
        "#print geometric series\n",
        "a = int(input(\"Enter the number\"))\n",
        "r = int(input(\"Enter the common ratio\"))\n",
        "print(a)\n",
        "for i in range(1,5):\n",
        "    print(a*r**i)"
      ]
    },
    {
      "cell_type": "code",
      "execution_count": 9,
      "metadata": {
        "colab": {
          "base_uri": "https://localhost:8080/"
        },
        "id": "vTwcm08sOeOV",
        "outputId": "d548c84d-19f8-4aba-ec00-b50d8ea8fe15"
      },
      "outputs": [
        {
          "output_type": "stream",
          "name": "stdout",
          "text": [
            "Enter the strEunoia\n",
            "e is vowel\n",
            "u is vowel\n",
            "o is vowel\n",
            "i is vowel\n",
            "a is vowel\n",
            "5\n"
          ]
        }
      ],
      "source": [
        "#Write a program to count the number of vowels in a given string using a for loop\n",
        "s = input(\"Enter the str\")\n",
        "vow =[\"a\",\"e\",\"i\",\"o\",\"u\"]\n",
        "count=0\n",
        "for i in s.lower():\n",
        "  for j in vow:\n",
        "    if i==j:\n",
        "      print(i,\"is vowel\")\n",
        "      count+=1\n",
        "print(count)"
      ]
    },
    {
      "cell_type": "code",
      "source": [
        "s = input(\"Enter the str\")\n",
        "vow =[\"a\",\"e\",\"i\",\"o\",\"u\"]\n",
        "count=0\n",
        "for i in s.lower():\n",
        "  if i in vow:\n",
        "    print(i,\"is vowel\")\n",
        "    count+=1\n",
        "print(count)"
      ],
      "metadata": {
        "colab": {
          "base_uri": "https://localhost:8080/"
        },
        "id": "IFzLNG86QMt5",
        "outputId": "83fb515c-c0d8-427d-bc1a-01cdf48ac951"
      },
      "execution_count": 11,
      "outputs": [
        {
          "output_type": "stream",
          "name": "stdout",
          "text": [
            "Enter the strBelal\n",
            "e is vowel\n",
            "a is vowel\n",
            "2\n"
          ]
        }
      ]
    },
    {
      "cell_type": "code",
      "source": [
        "#Calculate the average of a list of 7 numbers using a while loop.\n",
        "l = [1,2,3,4,5,6,7]\n",
        "suem=0\n",
        "for i in l:\n",
        "  sum=sum+i\n",
        "avg = sum/7\n",
        "print(avg)"
      ],
      "metadata": {
        "colab": {
          "base_uri": "https://localhost:8080/"
        },
        "id": "luicBVLTRD17",
        "outputId": "13a34215-49b7-417c-8663-39e4096d304b"
      },
      "execution_count": 20,
      "outputs": [
        {
          "output_type": "stream",
          "name": "stdout",
          "text": [
            "8.0\n"
          ]
        }
      ]
    },
    {
      "cell_type": "code",
      "source": [
        "l = [1,2,3,4,5,6,7]\n",
        "seum=0\n",
        "i=0\n",
        "while i<len(l):\n",
        "  sum=sum+l[i]\n",
        "  i=i+1\n",
        "avg=sum/len(l)\n",
        "print(avg)"
      ],
      "metadata": {
        "colab": {
          "base_uri": "https://localhost:8080/"
        },
        "id": "orzr9KpMRbkG",
        "outputId": "251c9742-8b0b-4087-fa80-049c56ba1ac3"
      },
      "execution_count": 21,
      "outputs": [
        {
          "output_type": "stream",
          "name": "stdout",
          "text": [
            "12.0\n"
          ]
        }
      ]
    },
    {
      "cell_type": "code",
      "source": [
        "#Print the first 8 Fibonacci numbers using a for loop\n",
        "a=0\n",
        "b=1\n",
        "print(a)\n",
        "print(b)\n",
        "for i in range(6):\n",
        "  c=a+b\n",
        "  print(c)\n",
        "  a,b=b,c\n"
      ],
      "metadata": {
        "colab": {
          "base_uri": "https://localhost:8080/"
        },
        "id": "CSACQKYpUQmW",
        "outputId": "15c77add-44a3-4a1a-d6f5-86409926e945"
      },
      "execution_count": 30,
      "outputs": [
        {
          "output_type": "stream",
          "name": "stdout",
          "text": [
            "0\n",
            "1\n",
            "1\n",
            "2\n",
            "3\n",
            "5\n",
            "8\n",
            "13\n"
          ]
        }
      ]
    },
    {
      "cell_type": "code",
      "source": [
        "print(list(range(0,8)))"
      ],
      "metadata": {
        "colab": {
          "base_uri": "https://localhost:8080/"
        },
        "id": "tqxV2gugV4Vd",
        "outputId": "682fd9f4-0837-45df-c2ce-48cb812959a0"
      },
      "execution_count": 25,
      "outputs": [
        {
          "output_type": "stream",
          "name": "stdout",
          "text": [
            "[0, 1, 2, 3, 4, 5, 6, 7]\n"
          ]
        }
      ]
    }
  ],
  "metadata": {
    "kernelspec": {
      "display_name": "Python 3",
      "language": "python",
      "name": "python3"
    },
    "language_info": {
      "codemirror_mode": {
        "name": "ipython",
        "version": 3
      },
      "file_extension": ".py",
      "mimetype": "text/x-python",
      "name": "python",
      "nbconvert_exporter": "python",
      "pygments_lexer": "ipython3",
      "version": "3.10.0"
    },
    "colab": {
      "provenance": []
    }
  },
  "nbformat": 4,
  "nbformat_minor": 0
}