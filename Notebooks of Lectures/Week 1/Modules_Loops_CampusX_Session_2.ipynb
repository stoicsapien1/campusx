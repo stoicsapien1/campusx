{
  "cells": [
    {
      "cell_type": "markdown",
      "metadata": {
        "id": "fdmL1gzMJ2JS"
      },
      "source": [
        "import math\n",
        "math.factorial(5)"
      ]
    },
    {
      "cell_type": "code",
      "execution_count": null,
      "metadata": {
        "id": "WjO3c6IWJ2JW",
        "outputId": "c3e4a72d-9ee4-417e-e932-65fc6c277804"
      },
      "outputs": [
        {
          "data": {
            "text/plain": [
              "6"
            ]
          },
          "execution_count": 3,
          "metadata": {},
          "output_type": "execute_result"
        }
      ],
      "source": [
        "math.floor(6.667)"
      ]
    },
    {
      "cell_type": "code",
      "execution_count": null,
      "metadata": {
        "id": "9tCRrOOmJ2JZ",
        "outputId": "0986894f-d964-4044-c9a2-1c49512399a0"
      },
      "outputs": [
        {
          "data": {
            "text/plain": [
              "12.0"
            ]
          },
          "execution_count": 4,
          "metadata": {},
          "output_type": "execute_result"
        }
      ],
      "source": [
        "math.sqrt(144)"
      ]
    },
    {
      "cell_type": "markdown",
      "metadata": {
        "id": "7yVXJOiqJ2Ja"
      },
      "source": [
        "Keyword\n"
      ]
    },
    {
      "cell_type": "code",
      "execution_count": null,
      "metadata": {
        "id": "LF0ypojcJ2Jb",
        "outputId": "a5327448-79e2-4fc0-f1d4-a7041b1c6814"
      },
      "outputs": [
        {
          "name": "stdout",
          "output_type": "stream",
          "text": [
            "['False', 'None', 'True', 'and', 'as', 'assert', 'async', 'await', 'break', 'class', 'continue', 'def', 'del', 'elif', 'else', 'except', 'finally', 'for', 'from', 'global', 'if', 'import', 'in', 'is', 'lambda', 'nonlocal', 'not', 'or', 'pass', 'raise', 'return', 'try', 'while', 'with', 'yield']\n"
          ]
        }
      ],
      "source": [
        "import keyword\n",
        "print(keyword.kwlist)"
      ]
    },
    {
      "cell_type": "code",
      "execution_count": null,
      "metadata": {
        "id": "A3VIo-iJJ2Jb",
        "outputId": "c1e4bf0f-59a7-49c7-ac30-9b06a2fed812"
      },
      "outputs": [
        {
          "name": "stdout",
          "output_type": "stream",
          "text": [
            "60\n"
          ]
        }
      ],
      "source": [
        "#random\n",
        "import random\n",
        "print(random.randint(1,100))"
      ]
    },
    {
      "cell_type": "code",
      "execution_count": null,
      "metadata": {
        "id": "guZ9l3dbJ2Jc",
        "outputId": "d5920b52-0cf2-4a85-dd8e-43315558c57c"
      },
      "outputs": [
        {
          "name": "stdout",
          "output_type": "stream",
          "text": [
            "2024-01-25 10:22:53.464750\n"
          ]
        }
      ],
      "source": [
        "#datetime\n",
        "import datetime\n",
        "print(datetime.datetime.now())"
      ]
    },
    {
      "cell_type": "code",
      "execution_count": null,
      "metadata": {
        "id": "p734HEOZJ2Jd",
        "outputId": "5f05c4d1-f706-4d7d-9d2b-77ebfbf5ca72"
      },
      "outputs": [
        {
          "name": "stdout",
          "output_type": "stream",
          "text": [
            "\n",
            "Please wait a moment while I gather a list of all available modules...\n",
            "\n"
          ]
        },
        {
          "name": "stderr",
          "output_type": "stream",
          "text": [
            "c:\\Users\\lucius seneca\\AppData\\Local\\Programs\\Python\\Python310\\lib\\pkgutil.py:107: VisibleDeprecationWarning: zmq.eventloop.minitornado is deprecated in pyzmq 14.0 and will be removed.\n",
            "    Install tornado itself to use zmq with the tornado IOLoop.\n",
            "    \n",
            "  yield from walk_packages(path, info.name+'.', onerror)\n"
          ]
        },
        {
          "name": "stdout",
          "output_type": "stream",
          "text": [
            "IPython             attrs               matplotlib_inline   sunau\n",
            "__future__          audioop             mimetypes           symtable\n",
            "_abc                backcall            mmap                sys\n",
            "_aix_support        base64              mmapfile            sysconfig\n",
            "_ast                bdb                 mmsystem            tabnanny\n",
            "_asyncio            binascii            modulefinder        tarfile\n",
            "_bisect             binhex              msilib              telnetlib\n",
            "_blake2             bisect              msvcrt              tempfile\n",
            "_bootsubprocess     builtins            multiprocessing     test\n",
            "_bz2                bz2                 nest_asyncio        textwrap\n",
            "_codecs             cProfile            netbios             this\n",
            "_codecs_cn          calendar            netrc               threading\n",
            "_codecs_hk          cgi                 nntplib             time\n",
            "_codecs_iso2022     cgitb               nt                  timeit\n",
            "_codecs_jp          chunk               ntpath              timer\n",
            "_codecs_kr          cmath               ntsecuritycon       tkinter\n",
            "_codecs_tw          cmd                 nturl2path          token\n",
            "_collections        code                numbers             tokenize\n",
            "_collections_abc    codecs              odbc                tornado\n",
            "_compat_pickle      codeop              opcode              trace\n",
            "_compression        collections         operator            traceback\n",
            "_contextvars        colorsys            optparse            tracemalloc\n",
            "_csv                comm                os                  traitlets\n",
            "_ctypes             commctrl            packaging           tty\n",
            "_ctypes_test        compileall          parso               turtle\n",
            "_datetime           concurrent          pathlib             turtledemo\n",
            "_decimal            configparser        pdb                 types\n",
            "_distutils_hack     contextlib          perfmon             typing\n",
            "_elementtree        contextvars         pickle              unicodedata\n",
            "_functools          copy                pickleshare         unittest\n",
            "_hashlib            copyreg             pickletools         urllib\n",
            "_heapq              crypt               pip                 uu\n",
            "_imp                csv                 pipes               uuid\n",
            "_io                 ctypes              pkg_resources       venv\n",
            "_json               curses              pkgutil             warnings\n",
            "_locale             dataclasses         platform            wave\n",
            "_lsprof             datetime            platformdirs        wcwidth\n",
            "_lzma               dateutil            plistlib            weakref\n",
            "_markupbase         dbi                 poplib              webbrowser\n",
            "_md5                dbm                 posixpath           win2kras\n",
            "_msi                dde                 pprint              win32api\n",
            "_multibytecodec     debugpy             profile             win32clipboard\n",
            "_multiprocessing    decimal             prompt_toolkit      win32com\n",
            "_opcode             decorator           pstats              win32con\n",
            "_operator           difflib             psutil              win32console\n",
            "_osx_support        dis                 pty                 win32cred\n",
            "_overlapped         distutils           pure_eval           win32crypt\n",
            "_pickle             doctest             py_compile          win32cryptcon\n",
            "_py_abc             email               pyclbr              win32event\n",
            "_pydecimal          encodings           pydoc               win32evtlog\n",
            "_pyio               ensurepip           pydoc_data          win32evtlogutil\n",
            "_queue              enum                pyexpat             win32file\n",
            "_random             errno               pygments            win32gui\n",
            "_sha1               executing           pythoncom           win32gui_struct\n",
            "_sha256             faulthandler        pywin               win32help\n",
            "_sha3               filecmp             pywin32_bootstrap   win32inet\n",
            "_sha512             fileinput           pywin32_testutil    win32inetcon\n",
            "_signal             fnmatch             pywintypes          win32job\n",
            "_sitebuiltins       fractions           queue               win32lz\n",
            "_socket             ftplib              quopri              win32net\n",
            "_sqlite3            functools           random              win32netcon\n",
            "_sre                gc                  rasutil             win32pdh\n",
            "_ssl                genericpath         re                  win32pdhquery\n",
            "_stat               getopt              referencing         win32pdhutil\n",
            "_statistics         getpass             regcheck            win32pipe\n",
            "_string             gettext             regutil             win32print\n",
            "_strptime           glob                reprlib             win32process\n",
            "_struct             graphlib            rlcompleter         win32profile\n",
            "_symtable           gzip                rpds                win32ras\n",
            "_testbuffer         hashlib             runpy               win32rcparser\n",
            "_testcapi           heapq               sched               win32security\n",
            "_testconsole        hmac                secrets             win32service\n",
            "_testimportmultiple html                select              win32serviceutil\n",
            "_testinternalcapi   http                selectors           win32timezone\n",
            "_testmultiphase     idlelib             servicemanager      win32trace\n",
            "_thread             imaplib             setuptools          win32traceutil\n",
            "_threading_local    imghdr              shelve              win32transaction\n",
            "_tkinter            imp                 shlex               win32ts\n",
            "_tracemalloc        importlib           shutil              win32ui\n",
            "_uuid               inspect             signal              win32uiole\n",
            "_warnings           io                  site                win32verstamp\n",
            "_weakref            ipaddress           six                 win32wnet\n",
            "_weakrefset         ipykernel           smtpd               winerror\n",
            "_win32sysloader     ipykernel_launcher  smtplib             winioctlcon\n",
            "_winapi             isapi               sndhdr              winnt\n",
            "_winxptheme         itertools           socket              winperf\n",
            "_xxsubinterpreters  jedi                socketserver        winreg\n",
            "_zoneinfo           json                sqlite3             winsound\n",
            "abc                 jsonschema_specifications sre_compile         winxpgui\n",
            "adodbapi            jupyter             sre_constants       winxptheme\n",
            "afxres              jupyter_client      sre_parse           wsgiref\n",
            "aifc                jupyter_core        ssl                 xdrlib\n",
            "antigravity         keyword             sspi                xml\n",
            "argparse            lib2to3             sspicon             xmlrpc\n",
            "array               linecache           stack_data          xxsubtype\n",
            "ast                 locale              start_pythonwin     zipapp\n",
            "asttokens           logging             stat                zipfile\n",
            "asynchat            lzma                statistics          zipimport\n",
            "asyncio             mailbox             string              zlib\n",
            "asyncore            mailcap             stringprep          zmq\n",
            "atexit              marshal             struct              zoneinfo\n",
            "attr                math                subprocess          ~mq\n",
            "\n",
            "Enter any module name to get more help.  Or, type \"modules spam\" to search\n",
            "for modules whose name or summary contain the string \"spam\".\n",
            "\n"
          ]
        }
      ],
      "source": [
        "help(\"modules\") #to find modules in our system"
      ]
    },
    {
      "cell_type": "markdown",
      "metadata": {
        "id": "0ksbwUEJJ2Je"
      },
      "source": [
        "Loops in python\n",
        "\n",
        "Uses of loops\n",
        "\n",
        "[1]"
      ]
    },
    {
      "cell_type": "markdown",
      "metadata": {
        "id": "Y-JEjow_J2Je"
      },
      "source": [
        "While loops"
      ]
    },
    {
      "cell_type": "code",
      "execution_count": null,
      "metadata": {
        "id": "G-Lj2pbzJ2Jf",
        "outputId": "b53dad2a-80f4-4ed5-bacb-4e4134a8ff71"
      },
      "outputs": [
        {
          "name": "stdout",
          "output_type": "stream",
          "text": [
            "11\n",
            "22\n",
            "33\n",
            "44\n",
            "55\n",
            "66\n",
            "77\n",
            "88\n",
            "99\n",
            "110\n"
          ]
        }
      ],
      "source": [
        "num = int(input(\"ENter the number\"))\n",
        "i=1\n",
        "while i<11:\n",
        "    print(num*i)\n",
        "    i+=1\n"
      ]
    },
    {
      "cell_type": "markdown",
      "metadata": {
        "id": "ClKew8jkJ2Jg"
      },
      "source": [
        "While loops with else\n"
      ]
    },
    {
      "cell_type": "code",
      "execution_count": null,
      "metadata": {
        "id": "RiX9BpUhJ2Jg",
        "outputId": "17aceba2-1085-4ef2-af20-99de545918b7"
      },
      "outputs": [
        {
          "name": "stdout",
          "output_type": "stream",
          "text": [
            "1\n",
            "2\n",
            "limit crossed\n"
          ]
        }
      ],
      "source": [
        "x=1\n",
        "while x<3:\n",
        "    print(x)\n",
        "    x+=1\n",
        "else:\n",
        "    print(\"limit crossed\")"
      ]
    },
    {
      "cell_type": "markdown",
      "metadata": {
        "id": "4O9RO52nJ2Ji"
      },
      "source": [
        "Bulding a guessing game\n"
      ]
    },
    {
      "cell_type": "code",
      "execution_count": null,
      "metadata": {
        "id": "SHAs46vfJ2Ji"
      },
      "outputs": [],
      "source": [
        "#generate a random integer between 1 and 100\n",
        "import random\n",
        "jackpot = random.randint(1,100)\n",
        "guess = int(input(\"Guess karo\"))\n",
        "counter=1\n",
        "while guess!=jackpot:\n",
        "    if guess<jackpot:\n",
        "        print(\"Galat hai,guess higher\")\n",
        "    else:\n",
        "        print(\"Galat hai,guess lower\")\n",
        "    guess = int(input(\"Guess karo\"))\n",
        "    counter+=1\n",
        "else:\n",
        "    print(\"correct guess\")\n",
        "    print(\"attempts\",counter)"
      ]
    },
    {
      "cell_type": "markdown",
      "metadata": {
        "id": "sJHByPP3J2Jj"
      },
      "source": [
        "For loops"
      ]
    },
    {
      "cell_type": "code",
      "execution_count": null,
      "metadata": {
        "id": "q0MacNLbJ2Jk",
        "outputId": "84cbca17-636d-4d3f-8718-6146dd27cbef"
      },
      "outputs": [
        {
          "name": "stdout",
          "output_type": "stream",
          "text": [
            "10\n",
            "9\n",
            "8\n",
            "7\n",
            "6\n",
            "5\n",
            "4\n",
            "3\n",
            "2\n",
            "1\n"
          ]
        }
      ],
      "source": [
        "for i in range(10,0,-1):\n",
        "    print(i)"
      ]
    },
    {
      "cell_type": "code",
      "execution_count": null,
      "metadata": {
        "id": "ATm3Pr8hJ2Jl",
        "outputId": "7034fd0b-2339-459b-dc0d-d60e0880474a"
      },
      "outputs": [
        {
          "name": "stdout",
          "output_type": "stream",
          "text": [
            "D\n",
            "e\n",
            "l\n",
            "h\n",
            "i\n"
          ]
        }
      ],
      "source": [
        "for i in \"Delhi\":\n",
        "    print(i)"
      ]
    },
    {
      "cell_type": "code",
      "execution_count": null,
      "metadata": {
        "id": "xJU7FeSYJ2Jm",
        "outputId": "8122e546-91dc-4725-d522-93271ed407e8"
      },
      "outputs": [
        {
          "name": "stdout",
          "output_type": "stream",
          "text": [
            "1\n",
            "2\n",
            "3\n",
            "4\n"
          ]
        }
      ],
      "source": [
        "for i in [1,2,3,4]:\n",
        "    print(i)"
      ]
    },
    {
      "cell_type": "code",
      "execution_count": null,
      "metadata": {
        "id": "WdWUuXwDJ2Jn",
        "outputId": "0895cff4-672d-4dd2-c90a-e58a231df624"
      },
      "outputs": [
        {
          "name": "stdout",
          "output_type": "stream",
          "text": [
            "9000.0\n",
            "8100.000000000001\n",
            "7290.000000000001\n",
            "6561.0\n",
            "5904.900000000001\n",
            "5314.410000000001\n",
            "4782.969000000001\n",
            "4304.672100000001\n",
            "3874.204890000001\n",
            "3486.784401000001\n"
          ]
        }
      ],
      "source": [
        "#This code is wrong\n",
        "cp = 10000\n",
        "for i in range(1,11):\n",
        "    print((0.9**i)*cp)"
      ]
    },
    {
      "cell_type": "markdown",
      "metadata": {
        "id": "_Ax2Md-xJ2Jo"
      },
      "source": [
        "![Screenshot 2024-01-25 132642.png](data:image/png;base64,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)"
      ]
    },
    {
      "cell_type": "code",
      "execution_count": null,
      "metadata": {
        "id": "WZw8ByJxJ2Jo",
        "outputId": "194f9ec3-c44d-40e3-fc64-b90c80d512e6"
      },
      "outputs": [
        {
          "name": "stdout",
          "output_type": "stream",
          "text": [
            "10 10000\n",
            "9 9090.90909090909\n",
            "8 8264.462809917353\n",
            "7 7513.148009015775\n",
            "6 6830.134553650703\n",
            "5 6209.213230591548\n",
            "4 5644.739300537771\n",
            "3 5131.5811823070635\n",
            "2 4665.07380209733\n",
            "1 4240.976183724845\n"
          ]
        }
      ],
      "source": [
        "#sir method\n",
        "cp=10000\n",
        "for i in range(10,0,-1):\n",
        "    print(i,cp)\n",
        "    cp=cp/1.1\n",
        "#note:10% se badna is different than 10% is gatna"
      ]
    },
    {
      "cell_type": "markdown",
      "metadata": {
        "id": "ahu_wCGPJ2Jp"
      },
      "source": [
        "Sequence Sum:Try to do things piece by piece.\n",
        "\n",
        "1/1! + 2/2! + 3/3! + ..."
      ]
    },
    {
      "cell_type": "code",
      "execution_count": 4,
      "metadata": {
        "colab": {
          "base_uri": "https://localhost:8080/"
        },
        "id": "HDTaF0hXJ2Jp",
        "outputId": "422713b1-ad06-4e16-ca24-7feaf5e124a7"
      },
      "outputs": [
        {
          "output_type": "stream",
          "name": "stdout",
          "text": [
            "enter n3\n",
            "2.5\n"
          ]
        }
      ],
      "source": [
        "n = int(input(\"enter n\"))\n",
        "result =0\n",
        "fact=1\n",
        "for i in range(1,n+1):\n",
        "  fact=fact*i\n",
        "  result = result+i/fact\n",
        "print(result)\n"
      ]
    },
    {
      "cell_type": "markdown",
      "source": [
        "Write a code for finding factorial\n"
      ],
      "metadata": {
        "id": "VDG-P-dlPTCl"
      }
    },
    {
      "cell_type": "code",
      "source": [
        "n = int(input(\"Enter the number\"))\n",
        "fact=1\n",
        "for i in range(1,n+1):\n",
        "  fact=fact*i\n",
        "print(fact)"
      ],
      "metadata": {
        "colab": {
          "base_uri": "https://localhost:8080/"
        },
        "id": "ElpxQ2cxPWvC",
        "outputId": "477d0e94-bbb9-4eb7-fa51-faebf7bed46c"
      },
      "execution_count": 5,
      "outputs": [
        {
          "output_type": "stream",
          "name": "stdout",
          "text": [
            "Enter the number5\n",
            "120\n"
          ]
        }
      ]
    },
    {
      "cell_type": "markdown",
      "metadata": {
        "id": "MgF_c-u_J2Jq"
      },
      "source": [
        "Nested loops"
      ]
    },
    {
      "cell_type": "code",
      "execution_count": null,
      "metadata": {
        "id": "bsBZxdKFJ2Jq",
        "outputId": "0022b454-a929-4ae5-eb55-0e1a272fc7b4"
      },
      "outputs": [
        {
          "name": "stdout",
          "output_type": "stream",
          "text": [
            "1 1\n",
            "1 2\n",
            "1 3\n",
            "1 4\n",
            "2 1\n",
            "2 2\n",
            "2 3\n",
            "2 4\n",
            "3 1\n",
            "3 2\n",
            "3 3\n",
            "3 4\n",
            "4 1\n",
            "4 2\n",
            "4 3\n",
            "4 4\n"
          ]
        }
      ],
      "source": [
        "for i in range(1,5):\n",
        "    for j in range(1,5):\n",
        "        print(i,j)"
      ]
    },
    {
      "cell_type": "markdown",
      "source": [
        "Patterns Problems\n",
        "\n"
      ],
      "metadata": {
        "id": "Ac51EmBcP2Z2"
      }
    },
    {
      "cell_type": "code",
      "source": [
        "*\n",
        "\n",
        "**\n",
        "\n",
        "***"
      ],
      "metadata": {
        "id": "-9Sy6cdfP5uE"
      },
      "execution_count": null,
      "outputs": []
    },
    {
      "cell_type": "code",
      "source": [
        "rows=int(input(\"Enter number of rows\"))\n",
        "for i in range(1,rows+1):\n",
        "  for j in range(1,i+1):\n",
        "    print(\"*\",end=\"\")\n",
        "  print()"
      ],
      "metadata": {
        "colab": {
          "base_uri": "https://localhost:8080/"
        },
        "id": "HeQSMjTWTg0J",
        "outputId": "e76691c9-ad4c-4929-e926-63943bf4d302"
      },
      "execution_count": 10,
      "outputs": [
        {
          "output_type": "stream",
          "name": "stdout",
          "text": [
            "Enter number of rows5\n",
            "*\n",
            "**\n",
            "***\n",
            "****\n",
            "*****\n"
          ]
        }
      ]
    },
    {
      "cell_type": "markdown",
      "source": [
        "### Pattern 2\n",
        "\n",
        "1<br>\n",
        "121<br>\n",
        "12321<br>\n",
        "1234321<br>"
      ],
      "metadata": {
        "id": "eVAO3tVmdOWV"
      }
    },
    {
      "cell_type": "code",
      "source": [
        "rows=int(input(\"Enter number of rows\"))\n",
        "for i in range(1,rows+1):\n",
        "  for j in range(1,i+1):\n",
        "    print(j,end = \" \")\n",
        "  for k in range(i-1,0,-1):\n",
        "    print(k,end=\" \")\n",
        "  print()"
      ],
      "metadata": {
        "id": "sHW4YJqcdXzw",
        "colab": {
          "base_uri": "https://localhost:8080/"
        },
        "outputId": "9f5384bb-a130-4554-cd87-c578ef2ccf0d"
      },
      "execution_count": 4,
      "outputs": [
        {
          "output_type": "stream",
          "name": "stdout",
          "text": [
            "Enter number of rows4\n",
            "1 \n",
            "1 2 1 \n",
            "1 2 3 2 1 \n",
            "1 2 3 4 3 2 1 \n"
          ]
        }
      ]
    },
    {
      "cell_type": "markdown",
      "source": [
        "Let's start things from basics"
      ],
      "metadata": {
        "id": "4RdMDp9hWpOM"
      }
    },
    {
      "cell_type": "code",
      "source": [
        "rows=int(input(\"Enter number of rows\"))\n",
        "for i in range(1,rows+1):\n",
        "  for j in range(1,i+1):\n",
        "    print(j,end = \" \")\n",
        "  print()"
      ],
      "metadata": {
        "colab": {
          "base_uri": "https://localhost:8080/"
        },
        "id": "z5wrBQgzWsnh",
        "outputId": "6332bb77-68ee-475a-8580-2c66b8c5aeca"
      },
      "execution_count": 1,
      "outputs": [
        {
          "output_type": "stream",
          "name": "stdout",
          "text": [
            "Enter number of rows4\n",
            "1 \n",
            "1 2 \n",
            "1 2 3 \n",
            "1 2 3 4 \n"
          ]
        }
      ]
    },
    {
      "cell_type": "markdown",
      "source": [
        "# Loop Control Statement\n",
        "\n",
        "- Break\n",
        "- Continue\n",
        "- Pass"
      ],
      "metadata": {
        "id": "8GccSRIt891U"
      }
    },
    {
      "cell_type": "code",
      "source": [
        "for i in range(1,10):\n",
        "  if i==5:\n",
        "    break\n",
        "  print(i)"
      ],
      "metadata": {
        "colab": {
          "base_uri": "https://localhost:8080/"
        },
        "id": "aDcYr6C5ts16",
        "outputId": "399f9d47-e1e5-4cf1-aa3f-eb38f9b8c69a"
      },
      "execution_count": 7,
      "outputs": [
        {
          "output_type": "stream",
          "name": "stdout",
          "text": [
            "1\n",
            "2\n",
            "3\n",
            "4\n"
          ]
        }
      ]
    },
    {
      "cell_type": "markdown",
      "source": [
        "Linear searching is the example of break"
      ],
      "metadata": {
        "id": "kjg0jb2PucFJ"
      }
    },
    {
      "cell_type": "code",
      "source": [
        "#print a prime number btw a given range\n",
        "lower = int(input(\"Enter the upper range\"))\n",
        "upper = int(input(\"Enter the upper range\"))\n",
        "for i in range(lower,upper+1):\n",
        "  for j in range(2,i):\n",
        "    if i%j==0:\n",
        "      break\n",
        "  else:\n",
        "    print(i)\n"
      ],
      "metadata": {
        "colab": {
          "base_uri": "https://localhost:8080/"
        },
        "id": "z8kEFilkug1Y",
        "outputId": "c7633762-4e9e-4a7a-f507-936e3153735e"
      },
      "execution_count": 8,
      "outputs": [
        {
          "output_type": "stream",
          "name": "stdout",
          "text": [
            "Enter the upper range10\n",
            "Enter the upper range100\n",
            "11\n",
            "13\n",
            "17\n",
            "19\n",
            "23\n",
            "29\n",
            "31\n",
            "37\n",
            "41\n",
            "43\n",
            "47\n",
            "53\n",
            "59\n",
            "61\n",
            "67\n",
            "71\n",
            "73\n",
            "79\n",
            "83\n",
            "89\n",
            "97\n"
          ]
        }
      ]
    },
    {
      "cell_type": "code",
      "source": [
        "#continue"
      ],
      "metadata": {
        "id": "hKkcCQfWxKA6"
      },
      "execution_count": null,
      "outputs": []
    },
    {
      "cell_type": "code",
      "source": [
        "for i in range(1,10):\n",
        "  if i==5:#5 skip ho gaya\n",
        "    continue\n",
        "  print(i)"
      ],
      "metadata": {
        "colab": {
          "base_uri": "https://localhost:8080/"
        },
        "id": "ZQJ7T5qkxMN7",
        "outputId": "09f5a5e2-9c76-48e5-ae03-50665ee8f25b"
      },
      "execution_count": 9,
      "outputs": [
        {
          "output_type": "stream",
          "name": "stdout",
          "text": [
            "1\n",
            "2\n",
            "3\n",
            "4\n",
            "6\n",
            "7\n",
            "8\n",
            "9\n"
          ]
        }
      ]
    },
    {
      "cell_type": "code",
      "source": [
        "#pass:error se bachne ka tareeqa hai pass"
      ],
      "metadata": {
        "id": "5mcIjgflx6QQ"
      },
      "execution_count": null,
      "outputs": []
    },
    {
      "cell_type": "code",
      "source": [
        "for i in range(1,10):\n",
        "  pass"
      ],
      "metadata": {
        "id": "DNPWRF1Px7ro"
      },
      "execution_count": 10,
      "outputs": []
    }
  ],
  "metadata": {
    "kernelspec": {
      "display_name": "Python 3",
      "name": "python3"
    },
    "language_info": {
      "codemirror_mode": {
        "name": "ipython",
        "version": 3
      },
      "file_extension": ".py",
      "mimetype": "text/x-python",
      "name": "python",
      "nbconvert_exporter": "python",
      "pygments_lexer": "ipython3",
      "version": "3.10.0"
    },
    "colab": {
      "provenance": [],
      "gpuType": "T4"
    },
    "accelerator": "GPU"
  },
  "nbformat": 4,
  "nbformat_minor": 0
}