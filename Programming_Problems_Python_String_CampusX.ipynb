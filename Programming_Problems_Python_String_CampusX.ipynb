{
  "nbformat": 4,
  "nbformat_minor": 0,
  "metadata": {
    "colab": {
      "provenance": [],
      "authorship_tag": "ABX9TyO//cktK9vXCpYZG3LXdnIl",
      "include_colab_link": true
    },
    "kernelspec": {
      "name": "python3",
      "display_name": "Python 3"
    },
    "language_info": {
      "name": "python"
    }
  },
  "cells": [
    {
      "cell_type": "markdown",
      "metadata": {
        "id": "view-in-github",
        "colab_type": "text"
      },
      "source": [
        "<a href=\"https://colab.research.google.com/github/stoicsapien1/campusx/blob/main/Programming_Problems_Python_String_CampusX.ipynb\" target=\"_parent\"><img src=\"https://colab.research.google.com/assets/colab-badge.svg\" alt=\"Open In Colab\"/></a>"
      ]
    },
    {
      "cell_type": "markdown",
      "source": [
        "Format"
      ],
      "metadata": {
        "id": "T1KCtqYMs3gB"
      }
    },
    {
      "cell_type": "code",
      "source": [
        "name = \"Belal\"\n",
        "gender= \"Male\"\n",
        "\"Hi my name is {} and I am a {}\".format(name,gender)#order matters"
      ],
      "metadata": {
        "colab": {
          "base_uri": "https://localhost:8080/",
          "height": 35
        },
        "id": "_SV2JWRHusWI",
        "outputId": "8f4ee5ca-83cf-4378-c65c-349221d157b9"
      },
      "execution_count": 1,
      "outputs": [
        {
          "output_type": "execute_result",
          "data": {
            "text/plain": [
              "'Hi my name is Belal and I am a Male'"
            ],
            "application/vnd.google.colaboratory.intrinsic+json": {
              "type": "string"
            }
          },
          "metadata": {},
          "execution_count": 1
        }
      ]
    },
    {
      "cell_type": "code",
      "source": [
        "name = \"Belal\"\n",
        "gender= \"Male\"\n",
        "\"Hi my name is {1} and I am a {0}\".format(name,gender)"
      ],
      "metadata": {
        "colab": {
          "base_uri": "https://localhost:8080/",
          "height": 35
        },
        "id": "nttMfmA9vfAF",
        "outputId": "3c8511d4-648c-4d35-c5a7-3a00e0925e51"
      },
      "execution_count": 3,
      "outputs": [
        {
          "output_type": "execute_result",
          "data": {
            "text/plain": [
              "'Hi my name is Male and I am a Belal'"
            ],
            "application/vnd.google.colaboratory.intrinsic+json": {
              "type": "string"
            }
          },
          "metadata": {},
          "execution_count": 3
        }
      ]
    },
    {
      "cell_type": "code",
      "source": [
        "name = input(\"Enter your name\")\n",
        "\"Hello {},How are you!\".format(name)"
      ],
      "metadata": {
        "colab": {
          "base_uri": "https://localhost:8080/",
          "height": 52
        },
        "id": "sRAo3wFHvCWY",
        "outputId": "d734ed64-64a9-4ea7-eeeb-2cd0cdf11fd3"
      },
      "execution_count": 19,
      "outputs": [
        {
          "name": "stdout",
          "output_type": "stream",
          "text": [
            "Enter your namebelal\n"
          ]
        },
        {
          "output_type": "execute_result",
          "data": {
            "text/plain": [
              "'Hello belal,How are you!'"
            ],
            "application/vnd.google.colaboratory.intrinsic+json": {
              "type": "string"
            }
          },
          "metadata": {},
          "execution_count": 19
        }
      ]
    },
    {
      "cell_type": "code",
      "source": [
        "# Find the length of a given string without using the len() function\n"
      ],
      "metadata": {
        "id": "TUuaN8s2x0gK"
      },
      "execution_count": 15,
      "outputs": []
    },
    {
      "cell_type": "code",
      "source": [
        "s= input(\"enter the string\")\n",
        "counter =0\n",
        "for i in s:\n",
        "  counter+=1\n",
        "\"Length of the string is {}\".format(counter)"
      ],
      "metadata": {
        "id": "MrHRCPLsFCP4"
      },
      "execution_count": null,
      "outputs": []
    },
    {
      "cell_type": "code",
      "source": [
        "# Extract username from a given email.\n",
        "# Eg if the email is nitish24singh@gmail.com\n",
        "# then the username should be nitish24singh\n"
      ],
      "metadata": {
        "colab": {
          "base_uri": "https://localhost:8080/"
        },
        "id": "rgHK0eqCyFdx",
        "outputId": "31f80dd1-d02b-47e2-98fe-c96b87d1533f"
      },
      "execution_count": 10,
      "outputs": [
        {
          "output_type": "stream",
          "name": "stdout",
          "text": [
            "Enter the emailbelal@gmail.com\n",
            "belal\n"
          ]
        }
      ]
    },
    {
      "cell_type": "code",
      "source": [
        "#2nd method\n",
        "email = input(\"Enter the email\")\n",
        "pos= email.index(\"@\")\n",
        "print(email[0:pos])"
      ],
      "metadata": {
        "colab": {
          "base_uri": "https://localhost:8080/"
        },
        "id": "s2wglQmIzSjK",
        "outputId": "223c23bd-e6df-43c0-d2af-ca1b518f1ea4"
      },
      "execution_count": 14,
      "outputs": [
        {
          "output_type": "stream",
          "name": "stdout",
          "text": [
            "Enter the emailbelalahmed@gmail.com\n",
            "belalahmed\n"
          ]
        }
      ]
    },
    {
      "cell_type": "code",
      "source": [
        "# Count the frequency of a particular character in a provided string.\n",
        "# Eg 'hello how are you' is the string, the frequency of h in this string is 2.\n"
      ],
      "metadata": {
        "colab": {
          "base_uri": "https://localhost:8080/"
        },
        "id": "6vRvaJdW0hz4",
        "outputId": "b8fd4da9-e6d4-419c-88f2-bf8ccfd8742b"
      },
      "execution_count": 15,
      "outputs": [
        {
          "output_type": "execute_result",
          "data": {
            "text/plain": [
              "2"
            ]
          },
          "metadata": {},
          "execution_count": 15
        }
      ]
    },
    {
      "cell_type": "code",
      "source": [
        "str = input(\"Enter the string\")\n",
        "char = input(\"Enter the character\")\n",
        "count=0\n",
        "for i in str:\n",
        "  if i==char:\n",
        "    count=count+1\n",
        "print(count)\n"
      ],
      "metadata": {
        "colab": {
          "base_uri": "https://localhost:8080/"
        },
        "id": "78_FiMdr0_7J",
        "outputId": "341072c0-5941-497c-aa7b-6a00170ceeed"
      },
      "execution_count": 19,
      "outputs": [
        {
          "output_type": "stream",
          "name": "stdout",
          "text": [
            "Enter the stringhello how are you\n",
            "Enter the characterh\n",
            "2\n"
          ]
        }
      ]
    },
    {
      "cell_type": "code",
      "source": [
        "# Write a program which can remove a particular character from a string.\n",
        "\n"
      ],
      "metadata": {
        "colab": {
          "base_uri": "https://localhost:8080/"
        },
        "id": "9I6qtVe82g4c",
        "outputId": "16384192-6cce-4065-92e1-c12906ca3872"
      },
      "execution_count": 23,
      "outputs": [
        {
          "output_type": "stream",
          "name": "stdout",
          "text": [
            "Enter the stringBelal Ahmed Siddiui\n",
            "Enter the character to removeB\n",
            "elal Ahmed Siddiui\n"
          ]
        }
      ]
    },
    {
      "cell_type": "code",
      "source": [
        "str = input(\"Enter the string\")\n",
        "char = input(\"Enter the character to remove\")\n",
        "result=\"\"\n",
        "for i in str:\n",
        "  if i!=char:\n",
        "    result=result+i\n",
        "print(result)\n"
      ],
      "metadata": {
        "id": "lfpEH5UnIBJ8"
      },
      "execution_count": null,
      "outputs": []
    },
    {
      "cell_type": "code",
      "source": [
        "# Write a program that can check whether a given string is palindrome or not.\n",
        "# abba\n",
        "# malayalam\n",
        "\n"
      ],
      "metadata": {
        "id": "jhHsRV1V3y8S"
      },
      "execution_count": null,
      "outputs": []
    },
    {
      "cell_type": "code",
      "source": [
        "str = input(\"Enter the string\")\n",
        "str1= str[::-1]\n",
        "if str==str1:\n",
        "  print(\"This is a palindrome\")\n",
        "else:\n",
        "  print(\"This is ot a palindrome\")"
      ],
      "metadata": {
        "colab": {
          "base_uri": "https://localhost:8080/"
        },
        "id": "nRvoPXSZ4Tqh",
        "outputId": "2535b72e-e5e0-491a-d4c9-a64f1db1ed0d"
      },
      "execution_count": 26,
      "outputs": [
        {
          "output_type": "stream",
          "name": "stdout",
          "text": [
            "Enter the stringbelal\n",
            "This is ot a palindrome\n"
          ]
        }
      ]
    },
    {
      "cell_type": "code",
      "source": [
        "s = input(\"Enter the string \")\n",
        "flag=True\n",
        "for i in range(0,len(s)//2):\n",
        "  if s[i] != s[len(s)-i-1]:\n",
        "    flag=False\n",
        "    print(\"Not palindrome\")\n",
        "    break\n",
        "if flag:\n",
        "  print(\"Palindrome\")"
      ],
      "metadata": {
        "colab": {
          "base_uri": "https://localhost:8080/"
        },
        "id": "4KY6Rwdt5kyG",
        "outputId": "81d6f1e9-847c-4884-fe76-a9a8cfe9332f"
      },
      "execution_count": 28,
      "outputs": [
        {
          "name": "stdout",
          "output_type": "stream",
          "text": [
            "Enter the string python\n"
          ]
        }
      ]
    },
    {
      "cell_type": "code",
      "source": [
        "# Write a program to count the number of words in a string without split()\n",
        "\n",
        "s = input('enter the string')\n",
        "L = []\n",
        "temp = ''\n",
        "for i in s:\n",
        "\n",
        "  if i != ' ':\n",
        "    temp = temp + i\n",
        "  else:\n",
        "    L.append(temp)\n",
        "    temp = ''\n",
        "\n",
        "L.append(temp)\n",
        "print(L)\n",
        "\n"
      ],
      "metadata": {
        "id": "qBHUb5taOLdC",
        "colab": {
          "base_uri": "https://localhost:8080/"
        },
        "outputId": "7d771c8a-9123-488b-8f63-06435638fb2e"
      },
      "execution_count": null,
      "outputs": [
        {
          "output_type": "stream",
          "name": "stdout",
          "text": [
            "enter the stringhi how are you\n",
            "['hi', 'how', 'are', 'you']\n"
          ]
        }
      ]
    },
    {
      "cell_type": "code",
      "source": [
        "s = input(\"Enter the string \")\n",
        "l= s.split(\" \")\n",
        "print(l)\n",
        "print(len(l))"
      ],
      "metadata": {
        "id": "nkqNVbLG9vpV"
      },
      "execution_count": null,
      "outputs": []
    },
    {
      "cell_type": "code",
      "source": [
        "# Write a python program to convert a string to title case without using the title()\n"
      ],
      "metadata": {
        "colab": {
          "base_uri": "https://localhost:8080/",
          "height": 35
        },
        "id": "cluW1pPQ-Dy5",
        "outputId": "bb54181d-8cb3-4109-f817-bebf81a12b45"
      },
      "execution_count": 1,
      "outputs": [
        {
          "output_type": "execute_result",
          "data": {
            "text/plain": [
              "'Hi How Are You'"
            ],
            "application/vnd.google.colaboratory.intrinsic+json": {
              "type": "string"
            }
          },
          "metadata": {},
          "execution_count": 1
        }
      ]
    },
    {
      "cell_type": "code",
      "source": [
        "s = input(\"Enter the string \")\n",
        "for i in s.split():\n",
        "  print(i[0].upper()+i[1:].lower(),end=\" \")"
      ],
      "metadata": {
        "colab": {
          "base_uri": "https://localhost:8080/"
        },
        "id": "HT0fK-Ge-UkG",
        "outputId": "8020b363-2b58-45a6-cc20-c912da63632d"
      },
      "execution_count": 6,
      "outputs": [
        {
          "output_type": "stream",
          "name": "stdout",
          "text": [
            "Enter the string hi how are you\n",
            "Hi How Are You "
          ]
        }
      ]
    },
    {
      "cell_type": "code",
      "source": [
        "#2nd Method"
      ],
      "metadata": {
        "id": "h37KAd8H_DVE"
      },
      "execution_count": null,
      "outputs": []
    },
    {
      "cell_type": "code",
      "source": [
        "s = input(\"Enter the string \")\n",
        "L=[]\n",
        "for i in s.split():\n",
        "  L.append(i[0].upper()+i[1:].lower())\n",
        "print(L)\n",
        "print(\" \".join(L))"
      ],
      "metadata": {
        "colab": {
          "base_uri": "https://localhost:8080/"
        },
        "id": "OOKsiBZd_GQW",
        "outputId": "b9f19266-2996-4780-c9a2-9cff5eabc6ee"
      },
      "execution_count": 14,
      "outputs": [
        {
          "output_type": "stream",
          "name": "stdout",
          "text": [
            "Enter the string hi how are you\n",
            "['Hi', 'How', 'Are', 'You']\n",
            "Hi How Are You\n"
          ]
        }
      ]
    },
    {
      "cell_type": "code",
      "source": [
        "# Write a program that can convert an integer to string."
      ],
      "metadata": {
        "id": "Uj44vnrEBT_y"
      },
      "execution_count": null,
      "outputs": []
    },
    {
      "cell_type": "code",
      "source": [
        "number = int(input('enter the number'))\n",
        "\n",
        "digits = '0123456789'\n",
        "result = ''\n",
        "while number != 0:\n",
        "  result = digits[number % 10] + result\n",
        "  number = number//10\n",
        "\n",
        "print(result)\n",
        "print(type(result))\n"
      ],
      "metadata": {
        "id": "C2ZBQoLUBWob"
      },
      "execution_count": null,
      "outputs": []
    }
  ]
}